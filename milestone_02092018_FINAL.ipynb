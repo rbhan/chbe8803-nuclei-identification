{
 "cells": [
  {
   "cell_type": "code",
   "execution_count": 4,
   "metadata": {
    "collapsed": true
   },
   "outputs": [],
   "source": [
    "## change the following to where you have stored and/or extracted the files\n",
    "path = '/Users/rhan39/Dropbox/Tool - Classes/ChBE 8803/Project/'\n",
    "\n",
    "###################################################################"
   ]
  },
  {
   "cell_type": "code",
   "execution_count": 5,
   "metadata": {},
   "outputs": [],
   "source": [
    "## load all packages used below\n",
    "from PIL import Image\n",
    "import glob\n",
    "import numpy as np\n",
    "import pandas as pd\n",
    "import zipfile,io\n",
    "import pylab as plt\n",
    "import matplotlib.image as mpimg"
   ]
  },
  {
   "cell_type": "code",
   "execution_count": 6,
   "metadata": {},
   "outputs": [
    {
     "ename": "FileNotFoundError",
     "evalue": "[Errno 2] No such file or directory: '/Users/rhan39/Dropbox/Tool - Classes/ChBE 8803/Project/stage1_train.zip'",
     "output_type": "error",
     "traceback": [
      "\u001b[1;31m---------------------------------------------------------------------------\u001b[0m",
      "\u001b[1;31mFileNotFoundError\u001b[0m                         Traceback (most recent call last)",
      "\u001b[1;32m<ipython-input-6-3ea497c3509e>\u001b[0m in \u001b[0;36m<module>\u001b[1;34m()\u001b[0m\n\u001b[0;32m     25\u001b[0m \u001b[1;33m\u001b[0m\u001b[0m\n\u001b[0;32m     26\u001b[0m \u001b[1;31m# WORKING EXAMPLE OF LOAD_IMG\u001b[0m\u001b[1;33m\u001b[0m\u001b[1;33m\u001b[0m\u001b[0m\n\u001b[1;32m---> 27\u001b[1;33m \u001b[0mbytes_io\u001b[0m \u001b[1;33m=\u001b[0m \u001b[0mload_img\u001b[0m\u001b[1;33m(\u001b[0m\u001b[0mpath\u001b[0m\u001b[1;33m+\u001b[0m\u001b[1;34m'stage1_train.zip'\u001b[0m\u001b[1;33m,\u001b[0m\u001b[1;36m0\u001b[0m\u001b[1;33m,\u001b[0m\u001b[1;36m0\u001b[0m\u001b[1;33m)\u001b[0m\u001b[1;33m\u001b[0m\u001b[0m\n\u001b[0m\u001b[0;32m     28\u001b[0m \u001b[0mimg\u001b[0m \u001b[1;33m=\u001b[0m \u001b[0mmpimg\u001b[0m\u001b[1;33m.\u001b[0m\u001b[0mimread\u001b[0m\u001b[1;33m(\u001b[0m\u001b[0mbytes_io\u001b[0m\u001b[1;33m)\u001b[0m \u001b[1;31m# numpy array\u001b[0m\u001b[1;33m\u001b[0m\u001b[0m\n\u001b[0;32m     29\u001b[0m \u001b[0mimgplot\u001b[0m \u001b[1;33m=\u001b[0m \u001b[0mplt\u001b[0m\u001b[1;33m.\u001b[0m\u001b[0mimshow\u001b[0m\u001b[1;33m(\u001b[0m\u001b[0mimg\u001b[0m\u001b[1;33m,\u001b[0m\u001b[0morigin\u001b[0m\u001b[1;33m=\u001b[0m\u001b[1;34m'lower'\u001b[0m\u001b[1;33m)\u001b[0m\u001b[1;33m\u001b[0m\u001b[0m\n",
      "\u001b[1;32m<ipython-input-6-3ea497c3509e>\u001b[0m in \u001b[0;36mload_img\u001b[1;34m(path, index, mask_index)\u001b[0m\n\u001b[0;32m      3\u001b[0m \u001b[1;32mdef\u001b[0m \u001b[0mload_img\u001b[0m\u001b[1;33m(\u001b[0m\u001b[0mpath\u001b[0m\u001b[1;33m,\u001b[0m\u001b[0mindex\u001b[0m\u001b[1;33m,\u001b[0m\u001b[0mmask_index\u001b[0m\u001b[1;33m)\u001b[0m\u001b[1;33m:\u001b[0m \u001b[1;31m#Load an image and masks\u001b[0m\u001b[1;33m\u001b[0m\u001b[0m\n\u001b[0;32m      4\u001b[0m     \u001b[1;31m#Lead it to the zip folder\u001b[0m\u001b[1;33m\u001b[0m\u001b[1;33m\u001b[0m\u001b[0m\n\u001b[1;32m----> 5\u001b[1;33m     \u001b[0mz\u001b[0m\u001b[1;33m=\u001b[0m\u001b[0mzipfile\u001b[0m\u001b[1;33m.\u001b[0m\u001b[0mZipFile\u001b[0m\u001b[1;33m(\u001b[0m\u001b[0mpath\u001b[0m\u001b[1;33m,\u001b[0m\u001b[1;34m'r'\u001b[0m\u001b[1;33m)\u001b[0m \u001b[1;31m#Access zip folder\u001b[0m\u001b[1;33m\u001b[0m\u001b[0m\n\u001b[0m\u001b[0;32m      6\u001b[0m     \u001b[0mnames\u001b[0m\u001b[1;33m=\u001b[0m\u001b[0mz\u001b[0m\u001b[1;33m.\u001b[0m\u001b[0mnamelist\u001b[0m\u001b[1;33m(\u001b[0m\u001b[1;33m)\u001b[0m \u001b[1;31m#List of names\u001b[0m\u001b[1;33m\u001b[0m\u001b[0m\n\u001b[0;32m      7\u001b[0m     \u001b[0mname\u001b[0m\u001b[1;33m=\u001b[0m\u001b[0mnames\u001b[0m\u001b[1;33m[\u001b[0m\u001b[0mindex\u001b[0m\u001b[1;33m]\u001b[0m \u001b[1;31m#Get selected image\u001b[0m\u001b[1;33m\u001b[0m\u001b[0m\n",
      "\u001b[1;32mC:\\Users\\rhan39\\AppData\\Local\\Continuum\\Anaconda3\\lib\\zipfile.py\u001b[0m in \u001b[0;36m__init__\u001b[1;34m(self, file, mode, compression, allowZip64)\u001b[0m\n\u001b[0;32m   1080\u001b[0m             \u001b[1;32mwhile\u001b[0m \u001b[1;32mTrue\u001b[0m\u001b[1;33m:\u001b[0m\u001b[1;33m\u001b[0m\u001b[0m\n\u001b[0;32m   1081\u001b[0m                 \u001b[1;32mtry\u001b[0m\u001b[1;33m:\u001b[0m\u001b[1;33m\u001b[0m\u001b[0m\n\u001b[1;32m-> 1082\u001b[1;33m                     \u001b[0mself\u001b[0m\u001b[1;33m.\u001b[0m\u001b[0mfp\u001b[0m \u001b[1;33m=\u001b[0m \u001b[0mio\u001b[0m\u001b[1;33m.\u001b[0m\u001b[0mopen\u001b[0m\u001b[1;33m(\u001b[0m\u001b[0mfile\u001b[0m\u001b[1;33m,\u001b[0m \u001b[0mfilemode\u001b[0m\u001b[1;33m)\u001b[0m\u001b[1;33m\u001b[0m\u001b[0m\n\u001b[0m\u001b[0;32m   1083\u001b[0m                 \u001b[1;32mexcept\u001b[0m \u001b[0mOSError\u001b[0m\u001b[1;33m:\u001b[0m\u001b[1;33m\u001b[0m\u001b[0m\n\u001b[0;32m   1084\u001b[0m                     \u001b[1;32mif\u001b[0m \u001b[0mfilemode\u001b[0m \u001b[1;32min\u001b[0m \u001b[0mmodeDict\u001b[0m\u001b[1;33m:\u001b[0m\u001b[1;33m\u001b[0m\u001b[0m\n",
      "\u001b[1;31mFileNotFoundError\u001b[0m: [Errno 2] No such file or directory: '/Users/rhan39/Dropbox/Tool - Classes/ChBE 8803/Project/stage1_train.zip'"
     ]
    }
   ],
   "source": [
    "## loads a user specified image (by index) and corresponding masks from ZIPPED stage1_train as np array, also displays png\n",
    " \n",
    "def load_img(path,index,mask_index): #Load an image and masks\n",
    "    #Lead it to the zip folder\n",
    "    z=zipfile.ZipFile(path,'r') #Access zip folder\n",
    "    names=z.namelist() #List of names\n",
    "    name=names[index] #Get selected image\n",
    "    name=name[0:-1] #Eliminate \"/\"\n",
    "    mask_list=[]\n",
    "    for string in names:\n",
    "        if string.startswith(name+'/mask'):\n",
    "            mask_list.append(string)\n",
    "    mask_list=mask_list[1:-1] #list of masks\n",
    "    mask_name=mask_list[mask_index] #Get individual mask\n",
    "    img_raw=z.read('{}/images/{}.png'.format(name,name)) #Grab raw image\n",
    "    mask_raw=z.read(mask_name) #Grab a mask\n",
    "    img = io.BytesIO(img_raw) # convert image\n",
    "    img = mpimg.imread(img) #numpy array\n",
    "    img = np.flip(img,0) #flip image\n",
    "    mask = io.BytesIO(mask_raw) #Convert mask\n",
    "    mask = mpimg.imread(mask) #numpy array\n",
    "    mask = np.flip(mask,0) #flip mask too\n",
    "    \n",
    "    return img, mask,mask_list\n",
    "\n",
    "# WORKING EXAMPLE OF LOAD_IMG\n",
    "bytes_io = load_img(path+'stage1_train.zip',0,0)\n",
    "img = mpimg.imread(bytes_io) # numpy array\n",
    "imgplot = plt.imshow(img,origin='lower')\n",
    "plt.show()"
   ]
  },
  {
   "cell_type": "code",
   "execution_count": null,
   "metadata": {
    "collapsed": true
   },
   "outputs": [],
   "source": [
    "## loads all images and masks from UNZIPPED stage1_train into both np array and dataframe\n",
    "\n",
    "def png2idx(img_path):\n",
    "    png = Image.open(img_path)\n",
    "    h = png.size[0]\n",
    "    w = png.size[1]\n",
    "    np_png = np.array(png.getdata())\n",
    "    df_png = pd.DataFrame(np_png)\n",
    "    return h,w, np_png, df_png\n",
    "\n",
    "def reindex(h, w, idx):\n",
    "    row = idx // w\n",
    "    col = idx % w\n",
    "    new_idx = col*h+row\n",
    "    return new_idx\n",
    "\n",
    "train_list = glob.glob(path+'stage1_train/*') # ALL TRAINING SAMPLES\n",
    "# train_list = [path+'stage1_train/0a7d30b252359a10fd298b638b90cb9ada3acced4e0c0e5a3692013f432ee4e9'] # 1st training sample, for testing purposes\n",
    "\n",
    "img_mask_db = pd.DataFrame(columns=['image_ID','mask_ID']) # df containing ID for images and associated masks\n",
    "for train in train_list:\n",
    "    # images\n",
    "    img_id = train.split('train/')[1]\n",
    "    img_path = train+'/images/'+img_id+'.png'\n",
    "    h,w, np_img, df_img = png2idx(img_path) # returns one-indexed image as np array AND pandas df\n",
    "    # mask\n",
    "    mask_list = glob.glob(train+'/masks/*.png')\n",
    "    mask_id = []\n",
    "    for mask in mask_list:\n",
    "        m = mask.split('masks/')[1]\n",
    "        mask_id = np.append(mask_id, m.split('.png'[0])[0]) # why does there need to be 2 [0]'s ??\n",
    "        h,w, np_mask, df_mask = png2idx(mask) # returns one-indexed mask as np array AND pandas df\n",
    "    img_mask_db = img_mask_db.append({'image_ID':img_id, 'mask_ID':mask_id}, ignore_index=True)"
   ]
  }
 ],
 "metadata": {
  "kernelspec": {
   "display_name": "Python 3",
   "language": "python",
   "name": "python3"
  },
  "language_info": {
   "codemirror_mode": {
    "name": "ipython",
    "version": 3
   },
   "file_extension": ".py",
   "mimetype": "text/x-python",
   "name": "python",
   "nbconvert_exporter": "python",
   "pygments_lexer": "ipython3",
   "version": "3.6.1"
  }
 },
 "nbformat": 4,
 "nbformat_minor": 2
}
