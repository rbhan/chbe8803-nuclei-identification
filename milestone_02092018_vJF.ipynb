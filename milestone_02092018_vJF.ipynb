{
 "cells": [
  {
   "cell_type": "code",
   "execution_count": 2,
   "metadata": {
    "collapsed": true
   },
   "outputs": [],
   "source": [
    "## change the following to where you have extracted and stored the files\n",
    "path = '/Users/arrakis/Dropbox/Tool - Classes/ChBE 8803/Project/'\n",
    "\n",
    "###################################################################"
   ]
  },
  {
   "cell_type": "code",
   "execution_count": 4,
   "metadata": {},
   "outputs": [
    {
     "name": "stdout",
     "output_type": "stream",
     "text": [
      "[   5.    5.    5.  255.]\n",
      "   0  1  2    3\n",
      "0  3  3  3  255\n"
     ]
    }
   ],
   "source": [
    "from PIL import Image\n",
    "import glob\n",
    "import numpy as np\n",
    "import pandas as pd\n",
    "import zipfile,io\n",
    "import pylab as plt\n",
    "import matplotlib.image as mpimg\n",
    "\n",
    "#Edited to allow for grabbing masks and images from zip files\n",
    "\n",
    "def load_img(path,index,mask_index): #Load an image and masks\n",
    "    #Lead it to the zip folder\n",
    "    z=zipfile.ZipFile(path,'r') #Access zip folder\n",
    "    names=z.namelist() #List of names\n",
    "    name=names[index] #Get selected image\n",
    "    name=name[0:-1] #Eliminate \"/\"\n",
    "    mask_list=[]\n",
    "    for string in names:\n",
    "        if string.startswith(name+'/mask'):\n",
    "            mask_list.append(string)\n",
    "    mask_list=mask_list[1:-1] #list of masks\n",
    "    mask_name=mask_list[mask_index] #Get individual mask\n",
    "    img_raw=z.read('{}/images/{}.png'.format(name,name)) #Grab raw image\n",
    "    mask_raw=z.read(mask_name) #Grab a mask\n",
    "    img = io.BytesIO(img_raw) # convert image\n",
    "    img = mpimg.imread(img) #numpy array\n",
    "    img = np.flip(img,0) #flip image\n",
    "    mask = io.BytesIO(mask_raw) #Convert mask\n",
    "    mask = mpimg.imread(mask) #numpy array\n",
    "    mask = np.flip(mask,0) #flip mask too\n",
    "    \n",
    "    return img, mask,mask_list\n",
    "\n",
    "# WORKING EXAMPLE OF LOAD_IMG\n",
    "bytes_io = load_img(path+'/stage1_train.zip',0,0)\n",
    "img = mpimg.imread(bytes_io) # numpy array\n",
    "# imgplot = plt.imshow(img,origin='lower')\n",
    "# plt.show()\n",
    "print(img[0][0]*255)\n",
    "\n",
    "def png2idx(img_path):\n",
    "    png = Image.open(img_path)\n",
    "    np_png = np.array(png.getdata())\n",
    "    df_png = pd.DataFrame(np_png)\n",
    "    return np_png, df_png\n",
    "\n",
    "# train_list = glob.glob(path+'stage1_train/*') # ALL TRAINING SAMPLES\n",
    "train_list = [path+'stage1_train/0a7d30b252359a10fd298b638b90cb9ada3acced4e0c0e5a3692013f432ee4e9'] # 1st training sample, for testing purposes\n",
    "\n",
    "img_mask_db = pd.DataFrame(columns=['image_ID','mask_ID']) # df containing ID for images and associated masks\n",
    "for train in train_list:\n",
    "    # images\n",
    "    img_id = train.split('train/')[1]\n",
    "    img_path = train+'/images/'+img_id+'.png'\n",
    "    np_img, df_img = png2idx(img_path) # returns one-indexed image as np array AND pandas df\n",
    "    # mask\n",
    "    mask_list = glob.glob(train+'/masks/*.png')\n",
    "    mask_id = []\n",
    "    for mask in mask_list:\n",
    "        m = mask.split('masks/')[1]\n",
    "        mask_id = np.append(mask_id, m.split('.png'[0])[0]) # why does there need to be 2 [0]'s ??\n",
    "        np_mask, df_mask = png2idx(mask) # returns one-indexed mask as np array AND pandas df\n",
    "    img_mask_db = img_mask_db.append({'image_ID':img_id, 'mask_ID':mask_id}, ignore_index=True)\n",
    "    \n",
    "print(df_img.head(1))"
   ]
  }
 ],
 "metadata": {
  "kernelspec": {
   "display_name": "Python 3",
   "language": "python",
   "name": "python3"
  },
  "language_info": {
   "codemirror_mode": {
    "name": "ipython",
    "version": 3
   },
   "file_extension": ".py",
   "mimetype": "text/x-python",
   "name": "python",
   "nbconvert_exporter": "python",
   "pygments_lexer": "ipython3",
   "version": "3.6.2"
  }
 },
 "nbformat": 4,
 "nbformat_minor": 2
}
