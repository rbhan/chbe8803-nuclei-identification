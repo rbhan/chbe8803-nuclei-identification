{
 "cells": [
  {
   "cell_type": "code",
   "execution_count": 35,
   "metadata": {
    "collapsed": true
   },
   "outputs": [],
   "source": [
    "## change the following to where the zip folder is stored\n",
    "path = '/Users/arrakis/Dropbox/Tool - Classes/ChBE 8803/Project/'\n",
    "\n",
    "###################################################################"
   ]
  },
  {
   "cell_type": "code",
   "execution_count": 71,
   "metadata": {},
   "outputs": [
    {
     "name": "stdout",
     "output_type": "stream",
     "text": [
      "[ 0.01960784  0.01960784  0.01960784  1.        ]\n"
     ]
    },
    {
     "ename": "IndexError",
     "evalue": "list index out of range",
     "output_type": "error",
     "traceback": [
      "\u001b[0;31m---------------------------------------------------------------------------\u001b[0m",
      "\u001b[0;31mIndexError\u001b[0m                                Traceback (most recent call last)",
      "\u001b[0;32m<ipython-input-71-ab084f62e96c>\u001b[0m in \u001b[0;36m<module>\u001b[0;34m()\u001b[0m\n\u001b[1;32m     34\u001b[0m     \u001b[0;31m# mask\u001b[0m\u001b[0;34m\u001b[0m\u001b[0;34m\u001b[0m\u001b[0m\n\u001b[1;32m     35\u001b[0m     \u001b[0mmask_list\u001b[0m \u001b[0;34m=\u001b[0m \u001b[0mglob\u001b[0m\u001b[0;34m.\u001b[0m\u001b[0mglob\u001b[0m\u001b[0;34m(\u001b[0m\u001b[0mtrain\u001b[0m\u001b[0;34m+\u001b[0m\u001b[0;34m'/masks/*.png'\u001b[0m\u001b[0;34m)\u001b[0m\u001b[0;34m\u001b[0m\u001b[0m\n\u001b[0;32m---> 36\u001b[0;31m     \u001b[0mmask_list\u001b[0m \u001b[0;34m=\u001b[0m \u001b[0;34m[\u001b[0m\u001b[0mmask_list\u001b[0m\u001b[0;34m[\u001b[0m\u001b[0;36m0\u001b[0m\u001b[0;34m]\u001b[0m\u001b[0;34m]\u001b[0m\u001b[0;34m\u001b[0m\u001b[0m\n\u001b[0m\u001b[1;32m     37\u001b[0m     \u001b[0mmask_id\u001b[0m \u001b[0;34m=\u001b[0m \u001b[0;34m[\u001b[0m\u001b[0;34m]\u001b[0m\u001b[0;34m\u001b[0m\u001b[0m\n\u001b[1;32m     38\u001b[0m     \u001b[0;32mfor\u001b[0m \u001b[0mmask\u001b[0m \u001b[0;32min\u001b[0m \u001b[0mmask_list\u001b[0m\u001b[0;34m:\u001b[0m\u001b[0;34m\u001b[0m\u001b[0m\n",
      "\u001b[0;31mIndexError\u001b[0m: list index out of range"
     ]
    }
   ],
   "source": [
    "import numpy as np\n",
    "import pandas as pd\n",
    "import zipfile,io\n",
    "import pylab as plt\n",
    "import matplotlib.image as mpimg\n",
    "\n",
    "zip_path = path+'/stage1_train'\n",
    "z = zipfile.ZipFile(zip_path+'.zip','r') # read zip folder\n",
    "\n",
    "def png2idx(np_2d):\n",
    "    row = np_2d.shape[0]\n",
    "    col = np_2d.shape[1]\n",
    "    np_1d = [0, 0, 0, 0]\n",
    "    for r in range(0,row):\n",
    "        for c in range(0,col):\n",
    "            np_1d = np.append(np_1d, np_2d[c][r], axis=0)\n",
    "    df_1d = pd.DataFrame(np_1d)\n",
    "    return np_1d, df_1d\n",
    "\n",
    "train_list = z.namelist()\n",
    "train_list = [train_list[0]] # 1st training sample, for testing purposes\n",
    "\n",
    "img_mask_db = pd.DataFrame(columns=['image_ID','mask_ID']) # df containing ID for images and associated masks\n",
    "for train in train_list:\n",
    "    # images\n",
    "    img_id = train.split('/')[0]\n",
    "    img_path = img_id+'/images/'+img_id+'.png'\n",
    "    np_2d = mpimg.imread(io.BytesIO(z.read(img_path))) # np array of image, 2d\n",
    "#     print(np_2d.shape)\n",
    "#     np_img, df_img = png2idx(np_2d)\n",
    "#     print(np_2d[0][0])\n",
    "    print(np_img.shape)\n",
    "#     np_img, df_img = png2idx(img_path) # returns one-indexed image as np array AND pandas df\n",
    "    # mask\n",
    "    mask_list = glob.glob(train+'/masks/*.png')\n",
    "    mask_list = [mask_list[0]]\n",
    "    mask_id = []\n",
    "    for mask in mask_list:\n",
    "        m = mask.split('masks/')[1]\n",
    "        mask_id = np.append(mask_id, m.split('.png'[0])[0]) # why does there need to be 2 [0]'s ??\n",
    "        np_mask, df_mask = png2idx(mask) # returns one-indexed mask as np array AND pandas df\n",
    "#         print(mask_id)\n",
    "    img_mask_db = img_mask_db.append({'image_ID':img_id, 'mask_ID':mask_id}, ignore_index=True)\n",
    "\n",
    "print(df_mask.iloc[181,0])"
   ]
  }
 ],
 "metadata": {
  "kernelspec": {
   "display_name": "Python 3",
   "language": "python",
   "name": "python3"
  },
  "language_info": {
   "codemirror_mode": {
    "name": "ipython",
    "version": 3
   },
   "file_extension": ".py",
   "mimetype": "text/x-python",
   "name": "python",
   "nbconvert_exporter": "python",
   "pygments_lexer": "ipython3",
   "version": "3.6.2"
  }
 },
 "nbformat": 4,
 "nbformat_minor": 2
}
