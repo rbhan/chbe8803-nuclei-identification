{
 "cells": [
  {
   "cell_type": "code",
   "execution_count": 6,
   "metadata": {
    "collapsed": true
   },
   "outputs": [],
   "source": [
    "## change the following to where you have extracted and stored the files\n",
    "path = '/Users/arrakis/Dropbox/Tool - Classes/ChBE 8803/Project/'\n",
    "\n",
    "###################################################################"
   ]
  },
  {
   "cell_type": "code",
   "execution_count": 9,
   "metadata": {},
   "outputs": [
    {
     "name": "stdout",
     "output_type": "stream",
     "text": [
      "39936\n",
      "   0  1  2    3\n",
      "0  3  3  3  255\n"
     ]
    }
   ],
   "source": [
    "from PIL import Image\n",
    "import glob\n",
    "import numpy as np\n",
    "import pandas as pd\n",
    "\n",
    "def png2idx(img_path):\n",
    "    png = Image.open(img_path)\n",
    "    h = png.size[0]\n",
    "    w = png.size[1]\n",
    "    np_png = np.array(png.getdata())\n",
    "    df_png = pd.DataFrame(np_png)\n",
    "    return h,w, np_png, df_png\n",
    "\n",
    "def reindex(h, w, idx):\n",
    "    row = idx // w\n",
    "    col = idx % w\n",
    "    new_idx = col*h+row\n",
    "    return new_idx\n",
    "\n",
    "train_list = glob.glob(path+'stage1_train/*') # ALL TRAINING SAMPLES\n",
    "# train_list = [path+'stage1_train/0a7d30b252359a10fd298b638b90cb9ada3acced4e0c0e5a3692013f432ee4e9'] # 1st training sample, for testing purposes\n",
    "\n",
    "img_mask_db = pd.DataFrame(columns=['image_ID','mask_ID']) # df containing ID for images and associated masks\n",
    "for train in train_list:\n",
    "    # images\n",
    "    img_id = train.split('train/')[1]\n",
    "    img_path = train+'/images/'+img_id+'.png'\n",
    "    h,w, np_img, df_img = png2idx(img_path) # returns one-indexed image as np array AND pandas df\n",
    "    # mask\n",
    "    mask_list = glob.glob(train+'/masks/*.png')\n",
    "    mask_id = []\n",
    "    for mask in mask_list:\n",
    "        m = mask.split('masks/')[1]\n",
    "        mask_id = np.append(mask_id, m.split('.png'[0])[0]) # why does there need to be 2 [0]'s ??\n",
    "        h,w, np_mask, df_mask = png2idx(mask) # returns one-indexed mask as np array AND pandas df\n",
    "    img_mask_db = img_mask_db.append({'image_ID':img_id, 'mask_ID':mask_id}, ignore_index=True)"
   ]
  },
  {
   "cell_type": "code",
   "execution_count": null,
   "metadata": {
    "collapsed": true
   },
   "outputs": [],
   "source": []
  }
 ],
 "metadata": {
  "kernelspec": {
   "display_name": "Python 3",
   "language": "python",
   "name": "python3"
  },
  "language_info": {
   "codemirror_mode": {
    "name": "ipython",
    "version": 3
   },
   "file_extension": ".py",
   "mimetype": "text/x-python",
   "name": "python",
   "nbconvert_exporter": "python",
   "pygments_lexer": "ipython3",
   "version": "3.6.2"
  }
 },
 "nbformat": 4,
 "nbformat_minor": 2
}
