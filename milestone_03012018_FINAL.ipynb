{
 "cells": [
  {
   "cell_type": "markdown",
   "metadata": {},
   "source": [
    "### Evaluating and Optimizing Machine Learning Techniques for Automatic Nuclei Detection\n",
    "\n",
    "<b>1. Motivation</b>\n",
    "\n",
    "Many people die from cancer every year. This is terribly sad. :’( We would like to prevent this. One option is to identify the cancer early; treatment of nascent cancers tends to be more successful. Often, cells suffering from cancer display different biomarkers in their nuclei. These biomarkers can be seen in immunohistochemical (IHC) imaging. If there were a rapid and accurate way to screen images for cancerous cells, many cancer prognoses could be improved. We aim to develop an automated cell nuclei detection technique.\n",
    "\n",
    "<b>2. Challenges</b>\n",
    "\n",
    "Imaging conditions can vary tremendously - illumination, contrast, fluorescence and staining will all affect the appearance of the cell. We would also like our technique to be generalizable to many cell types because cancer is insidious and affects many cell types. Depending on the biological sample that was imaged, cells may also be aggregated; where a trained eye could distinguish individual nuclei, an algorithm might falter. \n",
    "\n",
    "<b>3. Pre-treatment and Initial Segmentation (“Detection”)</b>\n",
    "\n",
    "Colour is usually either normalized or thresholded to remove noise and background [1]. A variety of pre-processing techniques can be used to find objects, from conventional blob detection, to morphological and/or contour resolution, to watershed segmentation [2-4]. We will use sensible discretion to pick a pre-treatment technique.\n",
    "\n",
    "<b>4. Segmentation and Identification</b>\n",
    "\n",
    "There are two primary approaches to cell segmentation:\n",
    "\n",
    "<b><i>Traditional methods segment nuclei from single or overlapping cells</i></b>\n",
    "\n",
    "Several traditional methods, often involving a-priori knowledge of cell shape and size [5]. First, cell clusters are segmented from the background by concavity [6-7]. Next, cell clusters can be separated into individual cells based on the concavity of the intensity distribution [7]. After individual cells have been identified, cell boundaries are often approximated using elliptical curve-fitting techniques [5,7]. Further segmentation can be applied to separate the cell nucleus from the cytoplasm. A gradient vector flow active contour model (GVF-ACM) has been shown to find boundaries between the nucleus and cytoplasm [8].\n",
    "\n",
    "In this work, we can begin performing segmentation using the scikit-image package for python. This package includes methods for ellipse and boundary fitting, as well as edge detection and active contour modeling.\n",
    "\n",
    "<b><i>Machine learning methods identify nuclei via classification algorithms</i></b>\n",
    "\n",
    "Machine learning and pattern recognition have been successfully used to identify and segment cells in IHC images [9]. Whether using techniques such as cluster analysis [10], random forests [9], or deep neural networks [11-13], the workflow is similar. First, initial segmentation is performed (often in the pre-treatment step) to find cells and agglomerates. Then, training data is fed through a classifier to extract the most important features. Repeating this process while keeping only the most important feature vectors establishes a model, which is finally used to classify new test data.\n",
    "\n",
    "We will start with cluster analysis and random forest classifiers (from the scikit-learn package), but likely will also employ traditional GVF or ellipse-fitting algorithms (which we will implement in python) to refine initial segmentation. If necessary, we also intend to look into convolutional neural networks implemented with the TensorFlow package.\n",
    "\n",
    "### References\n",
    "\n",
    "[1] M. Veta, P.J. Van Diest, R. Kornegoor, A. Huisman, M.A. Viergever, and J.P.W. Pluim. (<b>2013</b>) Automatic Nuclei Segmentation in H&E Stained Breast Cancer Histopathology Images. <i>PLoS One</i>, 8, 7.\n",
    "\n",
    "[2] X. Yang, H. Li, and X. Zhou. (<b>2006</b>) Nuclei Segmentation using Marker-Controlled Watershed, Tracking using Mean-Shift, and Kalman Filter in Time-Lapse Microscopy. <i>IEEE Trans. Circuits Syst. I, Reg. Papers.</i>, 53, 11.\n",
    "\n",
    "[3] J. Cheng and J.C. Rajapakse. (<b>2009</b>) Segmentation of Clustered Nuclei with Shape Markers and Marking Function. <i>IEEE Trans. Biomed. Eng.</i>, 56, 3.\n",
    "\n",
    "[4] S. Ali and A. Madabhushi, “An Integrated Region-, Boundary-, Shape-Based Active Contour for Multiple Object Overlap Resolution in Histological Imagery. <i>IEEE Trans. Med. Imag.</i>, 31, 7.\n",
    "\n",
    "[5] S. Kothari, Q. Chaudry, M.D. Wang. (2009) Automated Cell Counting and Cluster Segmentation Using Concavity Detection and Ellipse Fitting Techniques. <i>Proc. IEEE Int. Symp. Biomed. Imaging</i>, 795.\n",
    "\n",
    "[6] Y. Toyoshima, T. Tokunaga, O. Hirose, M. Kanamori, T. Teramoto, M.S. Jang, S. Kuge, T. \n",
    "Ishihara, R. Yoshida, and Y. Iino. (<b>2006</b>) Accurate Automatic Detection of Densely Distributed Cell Nuclei in 3D Space. <i>PLoS. Comput. Biol.</i>, 12, 6.\n",
    "\n",
    "[7] H.S. Wu, J. Gil, and J.Barba. (<b>1998</b>) Optimal Segmentation of Cell Images. <i>IEE P-Vis. Image. Sign.</i>, 145, 1.\n",
    "\n",
    "[8] S.F. Yang-Mao, Y.K. Chan, and Y.P. Chu. (<b>2008</b>) Edge enhancement nucleus and cytoplast contour detector of cervical smear images. <i>IEEE Trans. Syst. Man, Cybern. B</i>, 38, 2.\n",
    "\n",
    "[9] O. Rujuta and A.J. Vyavahare. (<b>2017</b>) Review of Nuclei Detection, Segmentation in Microscopic Images. <i>J. Bioengineer. Biomed. Sci.</i>, 7, 2.\n",
    "\n",
    "[10] S. Wienert, D. Heim, K. Saeger, A. Stenzinger, M. Beil, P. Hufnagl, M. Dietel, C. Denkert, F. Klauschen. (<b>2012</b>) Detection and Segmentation of Cell Nuclei in Virtual Microscopy Images: A Minimum-Model Approach. <i>Sci. Rep.</i>, 2, 503.\n",
    "\n",
    "[11] S.K. Sadanandan, P. Ranefall, S. Le Guyader, and C. Wahlby. (<b>2017</b>) Automated Training of Deep Convolutional Neural Networks for Cell Segmentation. <i>Sci. Rep.</i>, 7, 1.\n",
    "\n",
    "[12] K. Sirinukunwattana, S.E.A. Raza, Y.W Tsang, I.A. Cree, D.R.J. Snead, and N.M. Rajpoo. (<b>2016</b>) Locality Sensitive Deep Learning for Detection and Classification of Nuclei in Routine Colon Cancer Histology Images. <i>IEEE Trans. Med. Imag.</i>, 35, 99.\n",
    "\n",
    "[13] N. Kumar, R. Verma, S. Sharma, S. Bhargava, A. Vahadane, and A. Sethi. (<b>2017</b>) A Dataset and a Technique for Generalized Nuclear Segmentation for Computational Pathology. <i>IEEE Trans. Med. Imag.</i>, 36, 7."
   ]
  },
  {
   "cell_type": "code",
   "execution_count": 1,
   "metadata": {
    "collapsed": true
   },
   "outputs": [],
   "source": [
    "## change the following to where you have stored and/or extracted the files\n",
    "# path = './project/'\n",
    "path = '/Users/arrakis/Dropbox/Tool - Classes/ChBE 8803/Project'\n",
    "\n",
    "n_samples = 3\n",
    "#n_samples = 560 # 560 samples to train on\n",
    "\n",
    "###################################################################"
   ]
  },
  {
   "cell_type": "code",
   "execution_count": 2,
   "metadata": {
    "collapsed": true
   },
   "outputs": [],
   "source": [
    "## load all packages used below\n",
    "from skimage.color import rgb2gray\n",
    "from skimage.filters import threshold_otsu\n",
    "import imageio\n",
    "import numpy as np\n",
    "import pandas as pd\n",
    "import zipfile,io\n",
    "import pylab as plt\n",
    "import sklearn\n",
    "import matplotlib.image as mpimg\n",
    "from scipy import ndimage\n",
    "from sklearn import linear_model"
   ]
  },
  {
   "cell_type": "code",
   "execution_count": 3,
   "metadata": {},
   "outputs": [
    {
     "data": {
      "image/png": "[encoded data removed]",
      "text/plain": [
       "<matplotlib.figure.Figure at 0x1c227c50b8>"
      ]
     },
     "metadata": {},
     "output_type": "display_data"
    }
   ],
   "source": [
    "## STEP 1: Load an image (by index) and corresponding masks from ZIPPED stage1_train as np array\n",
    "\n",
    "def load_zipped_img(path, img_index): # load an image and all its masks\n",
    "    z = zipfile.ZipFile(path,'r') # access zip folder\n",
    "    zlist = z.namelist() # list of files in zip folder\n",
    "    img_name = zlist[img_index] # get selected image\n",
    "    img_name = img_name[0:-1] # eliminate \"/\"\n",
    "    \n",
    "    # get image and return as np array\n",
    "    img_raw = z.read('{}/images/{}.png'.format(img_name,img_name)) # get raw image\n",
    "    img = io.BytesIO(img_raw) # convert image\n",
    "    img = mpimg.imread(img) # numpy array\n",
    "    img = np.flip(img,0) # flip image\n",
    "    \n",
    "    # get all masks and return as np array\n",
    "    mask_list = []\n",
    "    for string in zlist:\n",
    "        if string.startswith(img_name+'/mask'):\n",
    "            mask_list.append(string)\n",
    "    mask_list = mask_list[1:-1] # list of masks\n",
    "    \n",
    "    masks = []\n",
    "    for m in mask_list:\n",
    "        mask_raw = z.read(m) # get raw mask\n",
    "        mask = io.BytesIO(mask_raw) # convert mask\n",
    "        mask = mpimg.imread(mask) # numpy array\n",
    "        mask = np.flip(mask,0) # flip mask\n",
    "        masks.append(mask)\n",
    "        \n",
    "    return img, masks\n",
    "\n",
    "# WORKING EXAMPLE OF load_zipped_img\n",
    "(img, masks) = load_zipped_img(path+'/stage1_train.zip',1)\n",
    "imgplot = plt.imshow(img, origin='lower')\n",
    "plt.show()"
   ]
  },
  {
   "cell_type": "code",
   "execution_count": 4,
   "metadata": {},
   "outputs": [
    {
     "data": {
      "image/png": "[encoded data removed]",
      "text/plain": [
       "<matplotlib.figure.Figure at 0x1139fc748>"
      ]
     },
     "metadata": {},
     "output_type": "display_data"
    }
   ],
   "source": [
    "## STEP 2: Grayscale image and segment objects by thresholding images (currently using Otsu's method)\n",
    "\n",
    "# convert to grayscale\n",
    "def grayscale(im):\n",
    "    return rgb2gray(im)\n",
    "\n",
    "# Otsu's Method, calculates optimal threshold for equal inter-/intra-class variance\n",
    "def otsu(image_gray):\n",
    "    threshold_val = threshold_otsu(image_gray) #Select threshold from Otsu's method\n",
    "    img_masked = np.where(image_gray > threshold_val, 1, 0)\n",
    "\n",
    "    if np.sum(img_masked==0) < np.sum(img_masked==1):\n",
    "        img_masked = np.where(img_masked, 0, 1)\n",
    "    return img_masked\n",
    "\n",
    "image_gray = grayscale(img)\n",
    "img_masked = otsu(image_gray)\n",
    "imgplot = plt.imshow(img_masked, origin='lower')\n",
    "plt.show()"
   ]
  },
  {
   "cell_type": "code",
   "execution_count": 5,
   "metadata": {
    "collapsed": true
   },
   "outputs": [],
   "source": [
    "## STEP 3: Separate individual objects and encode in run-length format\n",
    "\n",
    "# separate objects in image into individual masks\n",
    "def separate_obj(img_masked):\n",
    "    labels, nlabels = ndimage.label(img_masked)\n",
    "\n",
    "    label_arrays = []\n",
    "    for label_num in range(1, nlabels+1):\n",
    "        label_mask = np.where(labels == label_num, 1, 0)\n",
    "        label_arrays.append(label_mask)\n",
    "    return labels, nlabels, label_mask\n",
    "\n",
    "# convert path to run-length encoding (RLE) output format\n",
    "def convert2runlength(x):\n",
    "    obj = np.where(x.T.flatten()==1)[0] #1 corresponds to object, 0 to background\n",
    "    run_lengths = []\n",
    "    prev = -2\n",
    "    for b in obj: # find continuous set of object pixels\n",
    "        if (b>prev+1): run_lengths.extend((b+1, 0))\n",
    "        run_lengths[-1] += 1\n",
    "        prev = b\n",
    "    return \" \".join([str(i) for i in run_lengths])\n",
    "\n",
    "def rle(img_masked, im_id):\n",
    "    (labels, nlabels, label_mask) = separate_obj(img_masked)\n",
    "    im_df = pd.DataFrame()\n",
    "    for label_num in range(1, nlabels+1):\n",
    "        label_mask = np.where(labels == label_num, 1, 0)\n",
    "        if label_mask.flatten().sum() > 10:\n",
    "            rle = convert2runlength(label_mask)\n",
    "            s = pd.Series({'ImageId': im_id, 'EncodedPixels': rle})\n",
    "            im_df = im_df.append(s, ignore_index=True)\n",
    "    return im_df"
   ]
  },
  {
   "cell_type": "code",
   "execution_count": 6,
   "metadata": {},
   "outputs": [
    {
     "data": {
      "text/plain": [
       "LinearRegression(copy_X=True, fit_intercept=True, n_jobs=1, normalize=False)"
      ]
     },
     "execution_count": 6,
     "metadata": {},
     "output_type": "execute_result"
    }
   ],
   "source": [
    "# one-indexes a 2d array into 1d, top down then left right, output is np 1d array\n",
    "def one_index(arr2d):\n",
    "    h = arr2d.shape[0]\n",
    "    w = arr2d.shape[1]\n",
    "    \n",
    "    arr1d = []\n",
    "    for col in range(0, w):\n",
    "        for row in range(0, h):\n",
    "            arr1d.append(arr2d[row][col])\n",
    "    return np.array(arr1d)\n",
    "    \n",
    "# pads all vectors in array to have max_len, returns np array\n",
    "def pad_normalize(array, max_len):\n",
    "    for i in range(0, len(array)):\n",
    "        vec = array[i]\n",
    "        if len(vec) < max_len:\n",
    "            array[i] = np.concatenate(( np.array(vec).reshape(1,-1), np.zeros((1, (max_len-len(vec)))) ), axis=1)\n",
    "        else:\n",
    "            array[i] = np.array(vec).reshape(1,-1)\n",
    "    return np.array(array)\n",
    "\n",
    "## EXAMPLE TRAINING\n",
    "\n",
    "z = zipfile.ZipFile(path+'/stage1_train.zip','r') # access zip folder\n",
    "zlist = z.namelist() # list of files in zip directory\n",
    "samples = zlist[0:n_samples-1] # 0 < samples <= 560\n",
    "\n",
    "x_train = [] # predicted segmentation using Otsu's thresholding\n",
    "y_train = [] # \"correct\" segmentation from sum of masks\n",
    "max_len = 0\n",
    "for i in range(0, n_samples):\n",
    "    (img, masks) = load_zipped_img(path+'/stage1_train.zip', i) # loads image and associated masks\n",
    "    h = img.shape[0]\n",
    "    w = img.shape[1]\n",
    "    \n",
    "    x_vec = one_index(otsu(grayscale(img)))\n",
    "    y_vec = one_index(sum(masks))\n",
    "            \n",
    "    if len(x_vec) > max_len: max_len = len(x_vec)\n",
    "    x_train.append(x_vec)\n",
    "    y_train.append(y_vec)\n",
    "\n",
    "x_train = np.squeeze(pad_normalize(x_train, max_len), axis=1)\n",
    "x_shortfeature = x_train[:, 0:10000]\n",
    "y_train = np.squeeze(pad_normalize(y_train, max_len), axis=1)\n",
    "y_shortfeature = y_train[:, 0:10000]\n",
    "\n",
    "linreg = linear_model.LinearRegression() # create linear regression object\n",
    "linreg.fit(x_shortfeature, y_shortfeature) # train the model using the training sets"
   ]
  },
  {
   "cell_type": "code",
   "execution_count": 7,
   "metadata": {},
   "outputs": [
    {
     "name": "stdout",
     "output_type": "stream",
     "text": [
      "0.7518\n"
     ]
    }
   ],
   "source": [
    "## EXAMPLE TESTING\n",
    "\n",
    "(img_test, mask_test) = load_zipped_img(path+'/stage1_train.zip', 5)\n",
    "X_test = one_index(otsu(grayscale(img)))\n",
    "X_test = X_test[:10000].reshape(1, -1)\n",
    "y_pred = linreg.predict(X_test) # predict using the testing set\n",
    "y_pred = sum(y_pred).reshape(1,-1)\n",
    "y_pred = np.round(y_pred)\n",
    "\n",
    "# Scoring\n",
    "y_actual = one_index(sum(mask_test))[:10000].reshape(1, -1)\n",
    "accuracy = sklearn.metrics.accuracy_score(y_pred.T,y_actual.T)\n",
    "\n",
    "print(accuracy)"
   ]
  },
  {
   "cell_type": "code",
   "execution_count": null,
   "metadata": {
    "collapsed": true
   },
   "outputs": [],
   "source": []
  }
 ],
 "metadata": {
  "kernelspec": {
   "display_name": "Python 3",
   "language": "python",
   "name": "python3"
  },
  "language_info": {
   "codemirror_mode": {
    "name": "ipython",
    "version": 3
   },
   "file_extension": ".py",
   "mimetype": "text/x-python",
   "name": "python",
   "nbconvert_exporter": "python",
   "pygments_lexer": "ipython3",
   "version": "3.6.2"
  }
 },
 "nbformat": 4,
 "nbformat_minor": 2
}
